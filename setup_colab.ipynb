{
 "cells": [
  {
   "cell_type": "markdown",
   "metadata": {},
   "source": [
    "# CUDA Convolution Accelerator - Colab Setup\\n",
    "\\n",
    "This notebook sets up the CUDA convolution project in Google Colab.\\n",
    "\\n",
    "## Prerequisites\\n",
    "\\n",
    "**IMPORTANT:** Set runtime to GPU!\\n",
    "- Runtime \u2192 Change runtime type \u2192 Hardware accelerator \u2192 GPU\\n",
    "- Recommended: T4 or better"
   ]
  },
  {
   "cell_type": "markdown",
   "metadata": {},
   "source": [
    "## Step 1: Verify GPU Access"
   ]
  },
  {
   "cell_type": "code",
   "execution_count": null,
   "metadata": {},
   "outputs": [],
   "source": [
    "# Check NVIDIA GPU\\n",
    "!nvidia-smi\\n",
    "\\n",
    "import torch\\n",
    "if torch.cuda.is_available():\\n",
    "    print(f\"\\n\u2713 GPU Available: {torch.cuda.get_device_name(0)}\")\\n",
    "    print(f\"\u2713 CUDA Version: {torch.version.cuda}\")\\n",
    "else:\\n",
    "    print(\"\\n\u2717 No GPU detected. Please change runtime type to GPU.\")"
   ]
  },
  {
   "cell_type": "markdown",
   "metadata": {},
   "source": [
    "## Step 2: Install Dependencies"
   ]
  },
  {
   "cell_type": "code",
   "execution_count": null,
   "metadata": {},
   "outputs": [],
   "source": [
    "# Install CuPy and other dependencies\\n",
    "!pip install cupy-cuda11x scipy matplotlib pillow tqdm pytest -q\\n",
    "\\n",
    "print(\"\u2713 Dependencies installed\")"
   ]
  },
  {
   "cell_type": "markdown",
   "metadata": {},
   "source": [
    "## Step 3: Clone Repository\\n",
    "\\n",
    "Choose one of the following options:"
   ]
  },
  {
   "cell_type": "code",
   "execution_count": null,
   "metadata": {},
   "outputs": [],
   "source": [
    "# Option A: Clone from GitHub (replace with your repo URL)\\n",
    "!git clone https://github.com/elcruzo/cuda-conv.git\\n",
    "%cd cuda-conv"
   ]
  },
  {
   "cell_type": "code",
   "execution_count": null,
   "metadata": {},
   "outputs": [],
   "source": [
    "# Option B: Upload files manually\\n",
    "from google.colab import files\\n",
    "import zipfile\\n",
    "\\n",
    "# Upload your project zip file\\n",
    "uploaded = files.upload()\\n",
    "\\n",
    "# Extract\\n",
    "for filename in uploaded.keys():\\n",
    "    if filename.endswith('.zip'):\\n",
    "        with zipfile.ZipFile(filename, 'r') as zip_ref:\\n",
    "            zip_ref.extractall('.')\\n",
    "        print(f\"\u2713 Extracted {filename}\")"
   ]
  },
  {
   "cell_type": "markdown",
   "metadata": {},
   "source": [
    "## Step 4: Verify Installation"
   ]
  },
  {
   "cell_type": "code",
   "execution_count": null,
   "metadata": {},
   "outputs": [],
   "source": [
    "# Test imports\\n",
    "import cupy as cp\\n",
    "from src.api import convolve\\n",
    "from src.presets import get_kernel, list_kernels\\n",
    "\\n",
    "print(f\"\u2713 CuPy version: {cp.__version__}\")\\n",
    "print(f\"\u2713 GPU: {cp.cuda.Device().name.decode()}\")\\n",
    "print(f\"\u2713 Available kernels: {', '.join(list_kernels())}\")\\n",
    "\\n",
    "# Quick test\\n",
    "import numpy as np\\n",
    "test_img = np.random.rand(32, 32).astype(np.float32)\\n",
    "test_kernel = get_kernel('box_blur')\\n",
    "result = convolve(test_img, test_kernel)\\n",
    "\\n",
    "print(f\"\\n\u2713 Test convolution successful! Result shape: {result.shape}\")"
   ]
  },
  {
   "cell_type": "markdown",
   "metadata": {},
   "source": [
    "## Step 5: Generate Sample Images (if needed)"
   ]
  },
  {
   "cell_type": "code",
   "execution_count": null,
   "metadata": {},
   "outputs": [],
   "source": [
    "# Generate sample images\\n",
    "!python3 scripts/generate_sample_images.py\\n",
    "\\n",
    "print(\"\u2713 Sample images generated\")"
   ]
  },
  {
   "cell_type": "markdown",
   "metadata": {},
   "source": [
    "## Step 6: Run Tests"
   ]
  },
  {
   "cell_type": "code",
   "execution_count": null,
   "metadata": {},
   "outputs": [],
   "source": [
    "# Run test suite\\n",
    "!pytest tests/ -v\\n",
    "\\n",
    "print(\"\\n\u2713 All tests completed\")"
   ]
  },
  {
   "cell_type": "markdown",
   "metadata": {},
   "source": [
    "## Next Steps\\n",
    "\\n",
    "Now you're ready to use the CUDA convolution accelerator!\\n",
    "\\n",
    "Try:\\n",
    "- Open `notebooks/01_demo_speed.ipynb` for benchmarks\\n",
    "- Open `notebooks/02_examples.ipynb` for visual examples\\n",
    "- Use the CLI: `!python scripts/cli.py --help`"
   ]
  }
 ],
 "metadata": {
  "kernelspec": {
   "display_name": "Python 3",
   "language": "python",
   "name": "python3"
  },
  "language_info": {
   "name": "python",
   "version": "3.8.0"
  },
  "accelerator": "GPU"
 },
 "nbformat": 4,
 "nbformat_minor": 4
}