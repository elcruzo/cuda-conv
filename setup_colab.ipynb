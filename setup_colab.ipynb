{
  "nbformat": 4,
  "nbformat_minor": 0,
  "metadata": {
    "colab": {
      "provenance": [],
      "gpuType": "T4"
    },
    "kernelspec": {
      "name": "python3",
      "display_name": "Python 3"
    },
    "language_info": {
      "name": "python"
    },
    "accelerator": "GPU"
  },
  "cells": [
    {
      "cell_type": "markdown",
      "source": [
        "# CUDA Convolution Accelerator - Colab Setup\n",
        "\n",
        "This notebook sets up the CUDA convolution project in Google Colab.\n",
        "\n",
        "## Prerequisites\n",
        "\n",
        "**IMPORTANT:** Set runtime to GPU!\n",
        "\n",
        "- Go to **Runtime → Change runtime type → Hardware accelerator → GPU**\n",
        "- Recommended: **T4 or better**\n"
      ],
      "metadata": {
        "id": "7j99TPgO3KxP"
      }
    },
    {
      "cell_type": "code",
      "source": [
        "# Check NVIDIA GPU\n",
        "!nvidia-smi\n",
        "\n",
        "import torch\n",
        "if torch.cuda.is_available():\n",
        "    print(f\"\\n✓ GPU Available: {torch.cuda.get_device_name(0)}\")\n",
        "    print(f\"✓ CUDA Version: {torch.version.cuda}\")\n",
        "else:\n",
        "    print(\"\\n✗ No GPU detected. Please change runtime type to GPU.\")\n"
      ],
      "metadata": {
        "colab": {
          "base_uri": "https://localhost:8080/"
        },
        "id": "jZcnjCuS3hJm",
        "outputId": "3a4eff28-bf37-4f94-9cd7-ac881b7afdf7"
      },
      "execution_count": 1,
      "outputs": [
        {
          "output_type": "stream",
          "name": "stdout",
          "text": [
            "Tue Oct 28 18:36:05 2025       \n",
            "+-----------------------------------------------------------------------------------------+\n",
            "| NVIDIA-SMI 550.54.15              Driver Version: 550.54.15      CUDA Version: 12.4     |\n",
            "|-----------------------------------------+------------------------+----------------------+\n",
            "| GPU  Name                 Persistence-M | Bus-Id          Disp.A | Volatile Uncorr. ECC |\n",
            "| Fan  Temp   Perf          Pwr:Usage/Cap |           Memory-Usage | GPU-Util  Compute M. |\n",
            "|                                         |                        |               MIG M. |\n",
            "|=========================================+========================+======================|\n",
            "|   0  Tesla T4                       Off |   00000000:00:04.0 Off |                    0 |\n",
            "| N/A   76C    P8             12W /   70W |       0MiB /  15360MiB |      0%      Default |\n",
            "|                                         |                        |                  N/A |\n",
            "+-----------------------------------------+------------------------+----------------------+\n",
            "                                                                                         \n",
            "+-----------------------------------------------------------------------------------------+\n",
            "| Processes:                                                                              |\n",
            "|  GPU   GI   CI        PID   Type   Process name                              GPU Memory |\n",
            "|        ID   ID                                                               Usage      |\n",
            "|=========================================================================================|\n",
            "|  No running processes found                                                             |\n",
            "+-----------------------------------------------------------------------------------------+\n",
            "\n",
            "✓ GPU Available: Tesla T4\n",
            "✓ CUDA Version: 12.6\n"
          ]
        }
      ]
    },
    {
      "cell_type": "code",
      "source": [
        "# Install CuPy and other dependencies\n",
        "!pip install scipy matplotlib pillow tqdm pytest -q\n",
        "\n",
        "print(\"✓ Dependencies installed\")"
      ],
      "metadata": {
        "colab": {
          "base_uri": "https://localhost:8080/"
        },
        "id": "Doz0DCCb3yEV",
        "outputId": "c690fa5d-c178-4ddd-a05d-fe7cac1febe1"
      },
      "execution_count": 2,
      "outputs": [
        {
          "output_type": "stream",
          "name": "stdout",
          "text": [
            "✓ Dependencies installed\n"
          ]
        }
      ]
    },
    {
      "cell_type": "markdown",
      "source": [
        "###Check if github repo exists"
      ],
      "metadata": {
        "id": "YkxG3eIE95t9"
      }
    },
    {
      "cell_type": "code",
      "source": [
        "!rm -rf /content/cuda-conv"
      ],
      "metadata": {
        "id": "mmY_SytV9921"
      },
      "execution_count": 3,
      "outputs": []
    },
    {
      "cell_type": "code",
      "source": [
        "# Option A: Clone from GitHub (replace with your repo URL)\n",
        "!git clone https://github.com/elcruzo/cuda-conv.git\n",
        "%cd cuda-conv"
      ],
      "metadata": {
        "colab": {
          "base_uri": "https://localhost:8080/"
        },
        "id": "TXd8K5eR7HAk",
        "outputId": "25d7855e-d8f4-40f2-d98e-9b3432d134d7"
      },
      "execution_count": 4,
      "outputs": [
        {
          "output_type": "stream",
          "name": "stdout",
          "text": [
            "Cloning into 'cuda-conv'...\n",
            "remote: Enumerating objects: 84, done.\u001b[K\n",
            "remote: Counting objects: 100% (84/84), done.\u001b[K\n",
            "remote: Compressing objects: 100% (64/64), done.\u001b[K\n",
            "remote: Total 84 (delta 29), reused 71 (delta 19), pack-reused 0 (from 0)\u001b[K\n",
            "Receiving objects: 100% (84/84), 87.40 KiB | 745.00 KiB/s, done.\n",
            "Resolving deltas: 100% (29/29), done.\n",
            "/content/cuda-conv\n"
          ]
        }
      ]
    },
    {
      "cell_type": "code",
      "source": [
        "# Test imports\n",
        "import cupy as cp\n",
        "from src.api import convolve\n",
        "from src.presets import get_kernel, list_kernels\n",
        "\n",
        "print(f\"✓ CuPy version: {cp.__version__}\")\n",
        "print(f\"✓ GPU: {cp.cuda.runtime.getDeviceProperties(0)['name'].decode()}\")\n",
        "print(f\"✓ Available kernels: {', '.join(list_kernels())}\")\n",
        "\n",
        "# Quick test\n",
        "import numpy as np\n",
        "test_img = np.random.rand(32, 32).astype(np.float32)\n",
        "test_kernel = get_kernel('box_blur')\n",
        "result = convolve(test_img, test_kernel)\n",
        "\n",
        "print(f\"\\n✓ Test convolution successful! Result shape: {result.shape}\")"
      ],
      "metadata": {
        "colab": {
          "base_uri": "https://localhost:8080/"
        },
        "id": "4wACXW0A7QVN",
        "outputId": "aaf1390e-00dd-4e3c-fe3a-74ea1b20b558"
      },
      "execution_count": 5,
      "outputs": [
        {
          "output_type": "stream",
          "name": "stdout",
          "text": [
            "✓ CuPy version: 13.3.0\n",
            "✓ GPU: Tesla T4\n",
            "✓ Available kernels: sobel_x, sobel_y, gaussian, box_blur, sharpen, edge_detect, emboss, gaussian_5x5, box_blur_5x5\n",
            "\n",
            "✓ Test convolution successful! Result shape: (32, 32)\n"
          ]
        }
      ]
    },
    {
      "cell_type": "code",
      "source": [
        "# Generate sample images\n",
        "!python3 scripts/generate_sample_images.py\n",
        "\n",
        "print(\"✓ Sample images generated\")"
      ],
      "metadata": {
        "colab": {
          "base_uri": "https://localhost:8080/"
        },
        "id": "h7197OFq8xiQ",
        "outputId": "bd2b0ede-33dd-4a08-e9d5-0a15726abe04"
      },
      "execution_count": 6,
      "outputs": [
        {
          "output_type": "stream",
          "name": "stdout",
          "text": [
            "Generating sample images...\n",
            "/content/cuda-conv/scripts/generate_sample_images.py:41: DeprecationWarning: 'mode' parameter is deprecated and will be removed in Pillow 13 (2026-10-15)\n",
            "  return Image.fromarray(Z, mode='L')\n",
            "✓ Saved /content/cuda-conv/data/lena.png\n",
            "/content/cuda-conv/scripts/generate_sample_images.py:57: DeprecationWarning: 'mode' parameter is deprecated and will be removed in Pillow 13 (2026-10-15)\n",
            "  return Image.fromarray(img, mode='L')\n",
            "✓ Saved /content/cuda-conv/data/checker.png\n",
            "/content/cuda-conv/scripts/generate_sample_images.py:71: DeprecationWarning: 'mode' parameter is deprecated and will be removed in Pillow 13 (2026-10-15)\n",
            "  return Image.fromarray(Z, mode='L')\n",
            "✓ Saved /content/cuda-conv/data/gradient.png\n",
            "/content/cuda-conv/scripts/generate_sample_images.py:93: DeprecationWarning: 'mode' parameter is deprecated and will be removed in Pillow 13 (2026-10-15)\n",
            "  return Image.fromarray(img, mode='L')\n",
            "✓ Saved /content/cuda-conv/data/edges.png\n",
            "\n",
            "Done! Sample images generated in data/ directory.\n",
            "✓ Sample images generated\n"
          ]
        }
      ]
    },
    {
      "cell_type": "markdown",
      "source": [
        "## Step 6: Run Tests\n"
      ],
      "metadata": {
        "id": "3xXNmRZ281xD"
      }
    },
    {
      "cell_type": "code",
      "source": [
        "# Run test suite\n",
        "!pytest tests/ -v\n",
        "\n",
        "print(\"\\n✓ All tests completed\")"
      ],
      "metadata": {
        "colab": {
          "base_uri": "https://localhost:8080/"
        },
        "id": "cFzTVwCz8222",
        "outputId": "d0a98bbf-783b-4c25-816e-53f15a781a53"
      },
      "execution_count": 7,
      "outputs": [
        {
          "output_type": "stream",
          "name": "stdout",
          "text": [
            "\u001b[1m============================= test session starts ==============================\u001b[0m\n",
            "platform linux -- Python 3.12.12, pytest-8.4.2, pluggy-1.6.0 -- /usr/bin/python3\n",
            "cachedir: .pytest_cache\n",
            "rootdir: /content/cuda-conv\n",
            "plugins: typeguard-4.4.4, anyio-4.11.0, langsmith-0.4.38\n",
            "collected 28 items                                                             \u001b[0m\n",
            "\n",
            "tests/test_correctness.py::TestConvolutionCorrectness::test_simple_3x3_identity \u001b[32mPASSED\u001b[0m\u001b[32m [  3%]\u001b[0m\n",
            "tests/test_correctness.py::TestConvolutionCorrectness::test_simple_3x3_box_blur \u001b[32mPASSED\u001b[0m\u001b[32m [  7%]\u001b[0m\n",
            "tests/test_correctness.py::TestConvolutionCorrectness::test_sobel_edge_detection \u001b[32mPASSED\u001b[0m\u001b[32m [ 10%]\u001b[0m\n",
            "tests/test_correctness.py::TestConvolutionCorrectness::test_gaussian_blur \u001b[32mPASSED\u001b[0m\u001b[32m [ 14%]\u001b[0m\n",
            "tests/test_correctness.py::TestConvolutionCorrectness::test_5x5_kernel \u001b[32mPASSED\u001b[0m\u001b[32m [ 17%]\u001b[0m\n",
            "tests/test_correctness.py::TestConvolutionCorrectness::test_integer_kernel \u001b[32mPASSED\u001b[0m\u001b[32m [ 21%]\u001b[0m\n",
            "tests/test_correctness.py::TestConvolutionCorrectness::test_rgb_image \u001b[32mPASSED\u001b[0m\u001b[32m [ 25%]\u001b[0m\n",
            "tests/test_correctness.py::TestConvolutionCorrectness::test_naive_vs_optimized_consistency \u001b[32mPASSED\u001b[0m\u001b[32m [ 28%]\u001b[0m\n",
            "tests/test_correctness.py::TestConvolutionCorrectness::test_medium_image \u001b[32mPASSED\u001b[0m\u001b[32m [ 32%]\u001b[0m\n",
            "tests/test_edge_cases.py::TestEdgeCases::test_tiny_1x1_image \u001b[32mPASSED\u001b[0m\u001b[32m      [ 35%]\u001b[0m\n",
            "tests/test_edge_cases.py::TestEdgeCases::test_small_7x7_image \u001b[32mPASSED\u001b[0m\u001b[32m     [ 39%]\u001b[0m\n",
            "tests/test_edge_cases.py::TestEdgeCases::test_non_square_image \u001b[32mPASSED\u001b[0m\u001b[32m    [ 42%]\u001b[0m\n",
            "tests/test_edge_cases.py::TestEdgeCases::test_wide_image \u001b[32mPASSED\u001b[0m\u001b[32m          [ 46%]\u001b[0m\n",
            "tests/test_edge_cases.py::TestEdgeCases::test_tall_image \u001b[32mPASSED\u001b[0m\u001b[32m          [ 50%]\u001b[0m\n",
            "tests/test_edge_cases.py::TestEdgeCases::test_extreme_values \u001b[32mPASSED\u001b[0m\u001b[32m      [ 53%]\u001b[0m\n",
            "tests/test_edge_cases.py::TestEdgeCases::test_zero_image \u001b[32mPASSED\u001b[0m\u001b[32m          [ 57%]\u001b[0m\n",
            "tests/test_edge_cases.py::TestEdgeCases::test_constant_image \u001b[32mPASSED\u001b[0m\u001b[32m      [ 60%]\u001b[0m\n",
            "tests/test_edge_cases.py::TestEdgeCases::test_asymmetric_kernel \u001b[32mPASSED\u001b[0m\u001b[32m   [ 64%]\u001b[0m\n",
            "tests/test_edge_cases.py::TestEdgeCases::test_negative_kernel_values \u001b[32mPASSED\u001b[0m\u001b[32m [ 67%]\u001b[0m\n",
            "tests/test_edge_cases.py::TestErrorHandling::test_even_kernel_size \u001b[32mPASSED\u001b[0m\u001b[32m [ 71%]\u001b[0m\n",
            "tests/test_edge_cases.py::TestErrorHandling::test_non_square_kernel \u001b[32mPASSED\u001b[0m\u001b[32m [ 75%]\u001b[0m\n",
            "tests/test_edge_cases.py::TestErrorHandling::test_kernel_too_large \u001b[32mPASSED\u001b[0m\u001b[32m [ 78%]\u001b[0m\n",
            "tests/test_edge_cases.py::TestErrorHandling::test_wrong_image_dimensions \u001b[32mPASSED\u001b[0m\u001b[32m [ 82%]\u001b[0m\n",
            "tests/test_edge_cases.py::TestErrorHandling::test_unknown_preset_kernel \u001b[32mPASSED\u001b[0m\u001b[32m [ 85%]\u001b[0m\n",
            "tests/test_edge_cases.py::TestDataTypes::test_float64_conversion \u001b[32mPASSED\u001b[0m\u001b[32m  [ 89%]\u001b[0m\n",
            "tests/test_edge_cases.py::TestDataTypes::test_int_conversion \u001b[32mPASSED\u001b[0m\u001b[32m      [ 92%]\u001b[0m\n",
            "tests/test_edge_cases.py::TestDataTypes::test_cupy_input \u001b[32mPASSED\u001b[0m\u001b[32m          [ 96%]\u001b[0m\n",
            "tests/test_edge_cases.py::TestDataTypes::test_return_cupy_array \u001b[32mPASSED\u001b[0m\u001b[32m   [100%]\u001b[0m\n",
            "\n",
            "\u001b[32m============================== \u001b[32m\u001b[1m28 passed\u001b[0m\u001b[32m in 2.83s\u001b[0m\u001b[32m ==============================\u001b[0m\n",
            "\n",
            "✓ All tests completed\n"
          ]
        }
      ]
    }
  ]
}