{
 "cells": [
  {
   "cell_type": "markdown",
   "metadata": {},
   "source": [
    "# CUDA Convolution Accelerator - Speed Demo\\n\n",
    "\\n\n",
    "This notebook demonstrates the speedup achieved by using CUDA-accelerated convolution compared to CPU baseline.\\n\n",
    "\\n\n",
    "## Setup\\n\n",
    "\\n\n",
    "First, let's check if we have GPU access and install dependencies."
   ]
  },
  {
   "cell_type": "code",
   "execution_count": null,
   "metadata": {},
   "outputs": [],
   "source": [
    "# Check GPU availability\\n\n",
    "!nvidia-smi"
   ]
  },
  {
   "cell_type": "code",
   "execution_count": null,
   "metadata": {},
   "outputs": [],
   "source": [
    "# Install dependencies (if running in Colab)\\n\n",
    "import sys\\n\n",
    "IN_COLAB = 'google.colab' in sys.modules\\n\n",
    "\\n\n",
    "if IN_COLAB:\\n\n",
    "    !pip install cupy-cuda11x scipy matplotlib pillow tqdm -q\\n\n",
    "    print(\"✓ Dependencies installed\")\\n\n",
    "else:\\n\n",
    "    print(\"Running locally - ensure dependencies are installed\")"
   ]
  },
  {
   "cell_type": "markdown",
   "metadata": {},
   "source": [
    "## Imports"
   ]
  },
  {
   "cell_type": "code",
   "execution_count": null,
   "metadata": {},
   "outputs": [],
   "source": [
    "import numpy as np\\n\n",
    "import matplotlib.pyplot as plt\\n\n",
    "from PIL import Image\\n\n",
    "import cupy as cp\\n\n",
    "from tqdm import tqdm\\n\n",
    "import time\\n\n",
    "\\n\n",
    "# Import our modules\\n\n",
    "import sys\\n\n",
    "sys.path.insert(0, '..')\\n\n",
    "\\n\n",
    "from src.api import convolve, convolve_cpu\\n\n",
    "from src.presets import get_kernel, list_kernels\\n\n",
    "from src.timing import benchmark_all, benchmark_kernel_only, print_results\\n\n",
    "\\n\n",
    "print(f\"✓ CuPy version: {cp.__version__}\")\\n\n",
    "print(f\"✓ GPU: {cp.cuda.runtime.getDeviceProperties(0)['name'].decode()}\")\n",
    "print(f\"✓ Available kernels: {', '.join(list_kernels())}\")"
   ]
  },
  {
   "cell_type": "markdown",
   "metadata": {},
   "source": [
    "## Load Sample Images and Run Benchmark\\n\\nSee notebook for full analysis!"
   ]
  }
 ],
 "metadata": {
  "accelerator": "GPU",
  "kernelspec": {
   "display_name": "Python 3",
   "language": "python",
   "name": "python3"
  },
  "language_info": {
   "name": "python",
   "version": "3.8.0"
  }
 },
 "nbformat": 4,
 "nbformat_minor": 4
}
